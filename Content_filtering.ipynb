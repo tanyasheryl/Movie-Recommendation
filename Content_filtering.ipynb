{
 "cells": [
  {
   "cell_type": "markdown",
   "metadata": {},
   "source": [
    "## Content Based Filtering"
   ]
  },
  {
   "cell_type": "markdown",
   "metadata": {},
   "source": [
    "Content based recommender systems use some kind of past browsing history of the user to recommend a new list. It uses item factors like overview, genres, cast, crew to find the similarity between the movies and thereby generate an item matrix. Based on the user's previous preferences combined with the similarity of movies, it recommends a list of movies.\n"
   ]
  },
  {
   "cell_type": "markdown",
   "metadata": {},
   "source": [
    "Movie features like overview, genres etc. are text data and hence we need to convert this into the vector space to calculate the similarity. We use the Term Frequency- Inverse Document Frequency (TF-IDF) to convert the word to its vector form and thereby determine the importance of each feature. TF is the relative frequency of any word in the document and IDF is the inverse of document frequency which is the count of documents containing the words. Once we calculate the TF-IDF, we use the Vector Space Model to compute the proximity between different vectors. There are different parameters to calculate the similarity between two vectors: Cosine similarity, Dot Product and Euclidean Distance. Now, we can rank and sort the movies according to this similarity matrix"
   ]
  },
  {
   "cell_type": "markdown",
   "metadata": {},
   "source": [
    "This recommnder system cabe divided into 2 : Recommender Based on Movie Description or Overview and Recommnder based on Cast and Crew."
   ]
  },
  {
   "cell_type": "code",
   "execution_count": 1,
   "metadata": {},
   "outputs": [],
   "source": [
    "import pandas as pd\n",
    "import numpy as np\n",
    "import matplotlib.pyplot as plt\n",
    "import seaborn as sns\n",
    "from ast import literal_eval\n",
    "from sklearn.feature_extraction.text import TfidfVectorizer\n",
    "from sklearn.metrics.pairwise import linear_kernel \n",
    "from sklearn.feature_extraction.text import CountVectorizer\n",
    "from sklearn.metrics.pairwise import cosine_similarity"
   ]
  },
  {
   "cell_type": "markdown",
   "metadata": {},
   "source": [
    "Read all the data in the movies file and merge it to the links file. Convert the 'id' column in the movies file to int to do the merge."
   ]
  },
  {
   "cell_type": "code",
   "execution_count": 2,
   "metadata": {},
   "outputs": [
    {
     "data": {
      "text/html": [
       "<div>\n",
       "<style scoped>\n",
       "    .dataframe tbody tr th:only-of-type {\n",
       "        vertical-align: middle;\n",
       "    }\n",
       "\n",
       "    .dataframe tbody tr th {\n",
       "        vertical-align: top;\n",
       "    }\n",
       "\n",
       "    .dataframe thead th {\n",
       "        text-align: right;\n",
       "    }\n",
       "</style>\n",
       "<table border=\"1\" class=\"dataframe\">\n",
       "  <thead>\n",
       "    <tr style=\"text-align: right;\">\n",
       "      <th></th>\n",
       "      <th>id</th>\n",
       "      <th>title</th>\n",
       "      <th>overview</th>\n",
       "      <th>genres</th>\n",
       "    </tr>\n",
       "  </thead>\n",
       "  <tbody>\n",
       "    <tr>\n",
       "      <td>19730</td>\n",
       "      <td>NaN</td>\n",
       "      <td>NaN</td>\n",
       "      <td>Released</td>\n",
       "      <td>[{'name': 'Carousel Productions', 'id': 11176}...</td>\n",
       "    </tr>\n",
       "    <tr>\n",
       "      <td>29503</td>\n",
       "      <td>NaN</td>\n",
       "      <td>NaN</td>\n",
       "      <td>Released</td>\n",
       "      <td>[{'name': 'Aniplex', 'id': 2883}, {'name': 'Go...</td>\n",
       "    </tr>\n",
       "    <tr>\n",
       "      <td>35587</td>\n",
       "      <td>NaN</td>\n",
       "      <td>NaN</td>\n",
       "      <td>Released</td>\n",
       "      <td>[{'name': 'Odyssey Media', 'id': 17161}, {'nam...</td>\n",
       "    </tr>\n",
       "  </tbody>\n",
       "</table>\n",
       "</div>"
      ],
      "text/plain": [
       "       id title  overview                                             genres\n",
       "19730 NaN   NaN  Released  [{'name': 'Carousel Productions', 'id': 11176}...\n",
       "29503 NaN   NaN  Released  [{'name': 'Aniplex', 'id': 2883}, {'name': 'Go...\n",
       "35587 NaN   NaN  Released  [{'name': 'Odyssey Media', 'id': 17161}, {'nam..."
      ]
     },
     "execution_count": 2,
     "metadata": {},
     "output_type": "execute_result"
    }
   ],
   "source": [
    "data = pd.read_csv('movies_metadata.csv',low_memory=False)\n",
    "links = pd.read_csv('links_small.csv',low_memory=False)\n",
    "links = links[links['tmdbId'].isna() == False]['tmdbId']\n",
    "data = data[['id','title','overview',\"genres\"]]\n",
    "data['id'] = pd.to_numeric(data['id'],errors=\"coerce\")\n",
    "data[data['id'].isna()]"
   ]
  },
  {
   "cell_type": "markdown",
   "metadata": {},
   "source": [
    "Drop 'id' columns with null values ( NaN )"
   ]
  },
  {
   "cell_type": "code",
   "execution_count": 3,
   "metadata": {},
   "outputs": [],
   "source": [
    "data.dropna(subset=[\"id\",\"title\",\"overview\"],inplace=True)"
   ]
  },
  {
   "cell_type": "code",
   "execution_count": 4,
   "metadata": {},
   "outputs": [
    {
     "data": {
      "text/html": [
       "<div>\n",
       "<style scoped>\n",
       "    .dataframe tbody tr th:only-of-type {\n",
       "        vertical-align: middle;\n",
       "    }\n",
       "\n",
       "    .dataframe tbody tr th {\n",
       "        vertical-align: top;\n",
       "    }\n",
       "\n",
       "    .dataframe thead th {\n",
       "        text-align: right;\n",
       "    }\n",
       "</style>\n",
       "<table border=\"1\" class=\"dataframe\">\n",
       "  <thead>\n",
       "    <tr style=\"text-align: right;\">\n",
       "      <th></th>\n",
       "      <th>id</th>\n",
       "      <th>title</th>\n",
       "      <th>overview</th>\n",
       "      <th>genres</th>\n",
       "    </tr>\n",
       "  </thead>\n",
       "  <tbody>\n",
       "    <tr>\n",
       "      <td>0</td>\n",
       "      <td>862.0</td>\n",
       "      <td>Toy Story</td>\n",
       "      <td>Led by Woody, Andy's toys live happily in his ...</td>\n",
       "      <td>[{'id': 16, 'name': 'Animation'}, {'id': 35, '...</td>\n",
       "    </tr>\n",
       "    <tr>\n",
       "      <td>1</td>\n",
       "      <td>8844.0</td>\n",
       "      <td>Jumanji</td>\n",
       "      <td>When siblings Judy and Peter discover an encha...</td>\n",
       "      <td>[{'id': 12, 'name': 'Adventure'}, {'id': 14, '...</td>\n",
       "    </tr>\n",
       "    <tr>\n",
       "      <td>2</td>\n",
       "      <td>15602.0</td>\n",
       "      <td>Grumpier Old Men</td>\n",
       "      <td>A family wedding reignites the ancient feud be...</td>\n",
       "      <td>[{'id': 10749, 'name': 'Romance'}, {'id': 35, ...</td>\n",
       "    </tr>\n",
       "    <tr>\n",
       "      <td>3</td>\n",
       "      <td>31357.0</td>\n",
       "      <td>Waiting to Exhale</td>\n",
       "      <td>Cheated on, mistreated and stepped on, the wom...</td>\n",
       "      <td>[{'id': 35, 'name': 'Comedy'}, {'id': 18, 'nam...</td>\n",
       "    </tr>\n",
       "    <tr>\n",
       "      <td>4</td>\n",
       "      <td>11862.0</td>\n",
       "      <td>Father of the Bride Part II</td>\n",
       "      <td>Just when George Banks has recovered from his ...</td>\n",
       "      <td>[{'id': 35, 'name': 'Comedy'}]</td>\n",
       "    </tr>\n",
       "  </tbody>\n",
       "</table>\n",
       "</div>"
      ],
      "text/plain": [
       "        id                        title  \\\n",
       "0    862.0                    Toy Story   \n",
       "1   8844.0                      Jumanji   \n",
       "2  15602.0             Grumpier Old Men   \n",
       "3  31357.0            Waiting to Exhale   \n",
       "4  11862.0  Father of the Bride Part II   \n",
       "\n",
       "                                            overview  \\\n",
       "0  Led by Woody, Andy's toys live happily in his ...   \n",
       "1  When siblings Judy and Peter discover an encha...   \n",
       "2  A family wedding reignites the ancient feud be...   \n",
       "3  Cheated on, mistreated and stepped on, the wom...   \n",
       "4  Just when George Banks has recovered from his ...   \n",
       "\n",
       "                                              genres  \n",
       "0  [{'id': 16, 'name': 'Animation'}, {'id': 35, '...  \n",
       "1  [{'id': 12, 'name': 'Adventure'}, {'id': 14, '...  \n",
       "2  [{'id': 10749, 'name': 'Romance'}, {'id': 35, ...  \n",
       "3  [{'id': 35, 'name': 'Comedy'}, {'id': 18, 'nam...  \n",
       "4                     [{'id': 35, 'name': 'Comedy'}]  "
      ]
     },
     "execution_count": 4,
     "metadata": {},
     "output_type": "execute_result"
    }
   ],
   "source": [
    "df = data.copy()\n",
    "df.head()"
   ]
  },
  {
   "cell_type": "markdown",
   "metadata": {},
   "source": [
    "To scale down the data, we select the data in the links file."
   ]
  },
  {
   "cell_type": "code",
   "execution_count": 5,
   "metadata": {},
   "outputs": [],
   "source": [
    "df = df[df['id'].isin(links)]"
   ]
  },
  {
   "cell_type": "markdown",
   "metadata": {},
   "source": [
    "#### Recommender Based on Movie Description or Overview"
   ]
  },
  {
   "cell_type": "code",
   "execution_count": 6,
   "metadata": {},
   "outputs": [
    {
     "data": {
      "text/plain": [
       "1465     East-Berlin, 1961, shortly after the erection ...\n",
       "1613                                    No overview found.\n",
       "7327                                    No overview found.\n",
       "8472     Adventurer Allan Quartermain leads an expediti...\n",
       "8959     Director Michael Apted revisits the same group...\n",
       "9165     Hitman Jef Costello is a perfectionist who alw...\n",
       "9327     In feudal India, a warrior (Khan) who renounce...\n",
       "11444    Wilbur the pig is scared of the end of the sea...\n",
       "15074    British nurse Catherine Barkley (Helen Hayes) ...\n",
       "15765    Since women are banned from soccer matches, Ir...\n",
       "21854    More than two decades after catapulting to sta...\n",
       "23044    Former Danish servicemen Lars and Jimmy are th...\n",
       "23534    Winter, 1915. Confined by her family to an asy...\n",
       "24844    As an ex-gambler teaches a hot-shot college ki...\n",
       "26160    Nick Carraway, a young Midwesterner now living...\n",
       "26625    Count de Chagnie has discovered Christine's si...\n",
       "28860    In Zola's Paris, an ingenue arrives at a tony ...\n",
       "30001    Ten years into a marriage, the wife is disappo...\n",
       "33743    Until now, Zak Gibbs' greatest challenge has b...\n",
       "33826    Television made him famous, but his biggest hi...\n",
       "44821    When Molly Hale's sadness of her father's disa...\n",
       "44826    All your favorite Pokémon characters are back,...\n",
       "45265    While holidaying in the French Alps, a Swedish...\n",
       "Name: overview, dtype: object"
      ]
     },
     "execution_count": 6,
     "metadata": {},
     "output_type": "execute_result"
    }
   ],
   "source": [
    "df[df['overview'].duplicated()]['overview']"
   ]
  },
  {
   "cell_type": "markdown",
   "metadata": {},
   "source": [
    "When we check the 'Overview', we find columns with values 'No overview found'. We need to replace them as NaN."
   ]
  },
  {
   "cell_type": "code",
   "execution_count": 7,
   "metadata": {},
   "outputs": [
    {
     "name": "stdout",
     "output_type": "stream",
     "text": [
      "(9087, 4)\n"
     ]
    }
   ],
   "source": [
    "df['overview'] = df['overview'].replace('No overview found.', np.nan)\n",
    "print(df.shape)"
   ]
  },
  {
   "cell_type": "code",
   "execution_count": 8,
   "metadata": {},
   "outputs": [
    {
     "data": {
      "text/html": [
       "<div>\n",
       "<style scoped>\n",
       "    .dataframe tbody tr th:only-of-type {\n",
       "        vertical-align: middle;\n",
       "    }\n",
       "\n",
       "    .dataframe tbody tr th {\n",
       "        vertical-align: top;\n",
       "    }\n",
       "\n",
       "    .dataframe thead th {\n",
       "        text-align: right;\n",
       "    }\n",
       "</style>\n",
       "<table border=\"1\" class=\"dataframe\">\n",
       "  <thead>\n",
       "    <tr style=\"text-align: right;\">\n",
       "      <th></th>\n",
       "      <th>id</th>\n",
       "      <th>title</th>\n",
       "      <th>overview</th>\n",
       "      <th>genres</th>\n",
       "    </tr>\n",
       "  </thead>\n",
       "  <tbody>\n",
       "    <tr>\n",
       "      <td>1465</td>\n",
       "      <td>105045.0</td>\n",
       "      <td>The Promise</td>\n",
       "      <td>East-Berlin, 1961, shortly after the erection ...</td>\n",
       "      <td>[{'id': 18, 'name': 'Drama'}, {'id': 10749, 'n...</td>\n",
       "    </tr>\n",
       "    <tr>\n",
       "      <td>9165</td>\n",
       "      <td>5511.0</td>\n",
       "      <td>Le Samouraï</td>\n",
       "      <td>Hitman Jef Costello is a perfectionist who alw...</td>\n",
       "      <td>[{'id': 80, 'name': 'Crime'}, {'id': 18, 'name...</td>\n",
       "    </tr>\n",
       "    <tr>\n",
       "      <td>9327</td>\n",
       "      <td>23305.0</td>\n",
       "      <td>The Warrior</td>\n",
       "      <td>In feudal India, a warrior (Khan) who renounce...</td>\n",
       "      <td>[{'id': 12, 'name': 'Adventure'}, {'id': 16, '...</td>\n",
       "    </tr>\n",
       "    <tr>\n",
       "      <td>15074</td>\n",
       "      <td>22649.0</td>\n",
       "      <td>A Farewell to Arms</td>\n",
       "      <td>British nurse Catherine Barkley (Helen Hayes) ...</td>\n",
       "      <td>[{'id': 18, 'name': 'Drama'}, {'id': 10749, 'n...</td>\n",
       "    </tr>\n",
       "    <tr>\n",
       "      <td>15765</td>\n",
       "      <td>13209.0</td>\n",
       "      <td>Offside</td>\n",
       "      <td>Since women are banned from soccer matches, Ir...</td>\n",
       "      <td>[{'id': 18, 'name': 'Drama'}, {'id': 35, 'name...</td>\n",
       "    </tr>\n",
       "    <tr>\n",
       "      <td>21854</td>\n",
       "      <td>152795.0</td>\n",
       "      <td>The Congress</td>\n",
       "      <td>More than two decades after catapulting to sta...</td>\n",
       "      <td>[{'id': 18, 'name': 'Drama'}, {'id': 878, 'nam...</td>\n",
       "    </tr>\n",
       "    <tr>\n",
       "      <td>23044</td>\n",
       "      <td>25541.0</td>\n",
       "      <td>Brotherhood</td>\n",
       "      <td>Former Danish servicemen Lars and Jimmy are th...</td>\n",
       "      <td>[{'id': 18, 'name': 'Drama'}]</td>\n",
       "    </tr>\n",
       "    <tr>\n",
       "      <td>23534</td>\n",
       "      <td>110428.0</td>\n",
       "      <td>Camille Claudel 1915</td>\n",
       "      <td>Winter, 1915. Confined by her family to an asy...</td>\n",
       "      <td>[{'id': 18, 'name': 'Drama'}]</td>\n",
       "    </tr>\n",
       "    <tr>\n",
       "      <td>24844</td>\n",
       "      <td>11115.0</td>\n",
       "      <td>Deal</td>\n",
       "      <td>As an ex-gambler teaches a hot-shot college ki...</td>\n",
       "      <td>[{'id': 35, 'name': 'Comedy'}, {'id': 18, 'nam...</td>\n",
       "    </tr>\n",
       "    <tr>\n",
       "      <td>26625</td>\n",
       "      <td>69234.0</td>\n",
       "      <td>The Phantom of the Opera</td>\n",
       "      <td>Count de Chagnie has discovered Christine's si...</td>\n",
       "      <td>[{'id': 18, 'name': 'Drama'}, {'id': 27, 'name...</td>\n",
       "    </tr>\n",
       "    <tr>\n",
       "      <td>28860</td>\n",
       "      <td>168538.0</td>\n",
       "      <td>Nana, the True Key of Pleasure</td>\n",
       "      <td>In Zola's Paris, an ingenue arrives at a tony ...</td>\n",
       "      <td>[{'id': 18, 'name': 'Drama'}, {'id': 35, 'name...</td>\n",
       "    </tr>\n",
       "    <tr>\n",
       "      <td>30001</td>\n",
       "      <td>132641.0</td>\n",
       "      <td>Wife</td>\n",
       "      <td>Ten years into a marriage, the wife is disappo...</td>\n",
       "      <td>[{'id': 18, 'name': 'Drama'}]</td>\n",
       "    </tr>\n",
       "    <tr>\n",
       "      <td>33743</td>\n",
       "      <td>15028.0</td>\n",
       "      <td>Clockstoppers</td>\n",
       "      <td>Until now, Zak Gibbs' greatest challenge has b...</td>\n",
       "      <td>[{'id': 12, 'name': 'Adventure'}, {'id': 10751...</td>\n",
       "    </tr>\n",
       "    <tr>\n",
       "      <td>33826</td>\n",
       "      <td>4912.0</td>\n",
       "      <td>Confessions of a Dangerous Mind</td>\n",
       "      <td>Television made him famous, but his biggest hi...</td>\n",
       "      <td>[{'id': 35, 'name': 'Comedy'}, {'id': 80, 'nam...</td>\n",
       "    </tr>\n",
       "    <tr>\n",
       "      <td>44821</td>\n",
       "      <td>10991.0</td>\n",
       "      <td>Pokémon: Spell of the Unknown</td>\n",
       "      <td>When Molly Hale's sadness of her father's disa...</td>\n",
       "      <td>[{'id': 12, 'name': 'Adventure'}, {'id': 14, '...</td>\n",
       "    </tr>\n",
       "    <tr>\n",
       "      <td>44826</td>\n",
       "      <td>12600.0</td>\n",
       "      <td>Pokémon 4Ever: Celebi - Voice of the Forest</td>\n",
       "      <td>All your favorite Pokémon characters are back,...</td>\n",
       "      <td>[{'id': 12, 'name': 'Adventure'}, {'id': 14, '...</td>\n",
       "    </tr>\n",
       "    <tr>\n",
       "      <td>45265</td>\n",
       "      <td>265189.0</td>\n",
       "      <td>Force Majeure</td>\n",
       "      <td>While holidaying in the French Alps, a Swedish...</td>\n",
       "      <td>[{'id': 35, 'name': 'Comedy'}, {'id': 18, 'nam...</td>\n",
       "    </tr>\n",
       "  </tbody>\n",
       "</table>\n",
       "</div>"
      ],
      "text/plain": [
       "             id                                        title  \\\n",
       "1465   105045.0                                  The Promise   \n",
       "9165     5511.0                                  Le Samouraï   \n",
       "9327    23305.0                                  The Warrior   \n",
       "15074   22649.0                           A Farewell to Arms   \n",
       "15765   13209.0                                      Offside   \n",
       "21854  152795.0                                 The Congress   \n",
       "23044   25541.0                                  Brotherhood   \n",
       "23534  110428.0                         Camille Claudel 1915   \n",
       "24844   11115.0                                         Deal   \n",
       "26625   69234.0                     The Phantom of the Opera   \n",
       "28860  168538.0               Nana, the True Key of Pleasure   \n",
       "30001  132641.0                                         Wife   \n",
       "33743   15028.0                                Clockstoppers   \n",
       "33826    4912.0              Confessions of a Dangerous Mind   \n",
       "44821   10991.0                Pokémon: Spell of the Unknown   \n",
       "44826   12600.0  Pokémon 4Ever: Celebi - Voice of the Forest   \n",
       "45265  265189.0                                Force Majeure   \n",
       "\n",
       "                                                overview  \\\n",
       "1465   East-Berlin, 1961, shortly after the erection ...   \n",
       "9165   Hitman Jef Costello is a perfectionist who alw...   \n",
       "9327   In feudal India, a warrior (Khan) who renounce...   \n",
       "15074  British nurse Catherine Barkley (Helen Hayes) ...   \n",
       "15765  Since women are banned from soccer matches, Ir...   \n",
       "21854  More than two decades after catapulting to sta...   \n",
       "23044  Former Danish servicemen Lars and Jimmy are th...   \n",
       "23534  Winter, 1915. Confined by her family to an asy...   \n",
       "24844  As an ex-gambler teaches a hot-shot college ki...   \n",
       "26625  Count de Chagnie has discovered Christine's si...   \n",
       "28860  In Zola's Paris, an ingenue arrives at a tony ...   \n",
       "30001  Ten years into a marriage, the wife is disappo...   \n",
       "33743  Until now, Zak Gibbs' greatest challenge has b...   \n",
       "33826  Television made him famous, but his biggest hi...   \n",
       "44821  When Molly Hale's sadness of her father's disa...   \n",
       "44826  All your favorite Pokémon characters are back,...   \n",
       "45265  While holidaying in the French Alps, a Swedish...   \n",
       "\n",
       "                                                  genres  \n",
       "1465   [{'id': 18, 'name': 'Drama'}, {'id': 10749, 'n...  \n",
       "9165   [{'id': 80, 'name': 'Crime'}, {'id': 18, 'name...  \n",
       "9327   [{'id': 12, 'name': 'Adventure'}, {'id': 16, '...  \n",
       "15074  [{'id': 18, 'name': 'Drama'}, {'id': 10749, 'n...  \n",
       "15765  [{'id': 18, 'name': 'Drama'}, {'id': 35, 'name...  \n",
       "21854  [{'id': 18, 'name': 'Drama'}, {'id': 878, 'nam...  \n",
       "23044                      [{'id': 18, 'name': 'Drama'}]  \n",
       "23534                      [{'id': 18, 'name': 'Drama'}]  \n",
       "24844  [{'id': 35, 'name': 'Comedy'}, {'id': 18, 'nam...  \n",
       "26625  [{'id': 18, 'name': 'Drama'}, {'id': 27, 'name...  \n",
       "28860  [{'id': 18, 'name': 'Drama'}, {'id': 35, 'name...  \n",
       "30001                      [{'id': 18, 'name': 'Drama'}]  \n",
       "33743  [{'id': 12, 'name': 'Adventure'}, {'id': 10751...  \n",
       "33826  [{'id': 35, 'name': 'Comedy'}, {'id': 80, 'nam...  \n",
       "44821  [{'id': 12, 'name': 'Adventure'}, {'id': 14, '...  \n",
       "44826  [{'id': 12, 'name': 'Adventure'}, {'id': 14, '...  \n",
       "45265  [{'id': 35, 'name': 'Comedy'}, {'id': 18, 'nam...  "
      ]
     },
     "execution_count": 8,
     "metadata": {},
     "output_type": "execute_result"
    }
   ],
   "source": [
    "df[df['id'].duplicated()]"
   ]
  },
  {
   "cell_type": "code",
   "execution_count": 9,
   "metadata": {},
   "outputs": [],
   "source": [
    "df.drop_duplicates(['id'],inplace=True)\n",
    "df.dropna(subset=[\"overview\"],inplace=True)\n",
    "df = df.reset_index(drop=True)"
   ]
  },
  {
   "cell_type": "code",
   "execution_count": 10,
   "metadata": {},
   "outputs": [
    {
     "data": {
      "text/plain": [
       "id          0\n",
       "title       0\n",
       "overview    0\n",
       "genres      0\n",
       "dtype: int64"
      ]
     },
     "execution_count": 10,
     "metadata": {},
     "output_type": "execute_result"
    }
   ],
   "source": [
    "df.isna().sum()"
   ]
  },
  {
   "cell_type": "markdown",
   "metadata": {},
   "source": [
    "The data is now completely clean and good for creating the model."
   ]
  },
  {
   "cell_type": "markdown",
   "metadata": {},
   "source": [
    "Use TF-IDF (unigram and bigram) to convert the words in 'Overview' column to it vector space."
   ]
  },
  {
   "cell_type": "code",
   "execution_count": 11,
   "metadata": {},
   "outputs": [
    {
     "data": {
      "text/plain": [
       "(9067, 244199)"
      ]
     },
     "execution_count": 11,
     "metadata": {},
     "output_type": "execute_result"
    }
   ],
   "source": [
    "mapping = pd.Series(df.index,index = df['title'])\n",
    "tf = TfidfVectorizer(analyzer='word',ngram_range=(1, 2),min_df=0, stop_words='english')\n",
    "sim_matrix = tf.fit_transform(df['overview'])\n",
    "sim_matrix.shape"
   ]
  },
  {
   "cell_type": "code",
   "execution_count": 12,
   "metadata": {},
   "outputs": [
    {
     "name": "stdout",
     "output_type": "stream",
     "text": [
      "title\n",
      "Harry Potter and the Philosopher's Stone        3798\n",
      "Harry Potter and the Chamber of Secrets         4310\n",
      "Harry Potter and the Prisoner of Azkaban        5381\n",
      "Harry Potter and the Goblet of Fire             6269\n",
      "Harry Potter and the Order of the Phoenix       6709\n",
      "Harry Potter and the Half-Blood Prince          7246\n",
      "Harry Potter and the Deathly Hallows: Part 1    7635\n",
      "Harry Potter and the Deathly Hallows: Part 2    7807\n",
      "dtype: int64\n"
     ]
    }
   ],
   "source": [
    "print (mapping[mapping.index.str.startswith('Harry Potter')])"
   ]
  },
  {
   "cell_type": "code",
   "execution_count": 13,
   "metadata": {},
   "outputs": [
    {
     "data": {
      "text/plain": [
       "array([1.        , 0.00742716, 0.        , ..., 0.        , 0.        ,\n",
       "       0.00496914])"
      ]
     },
     "execution_count": 13,
     "metadata": {},
     "output_type": "execute_result"
    }
   ],
   "source": [
    "cosine_sim = linear_kernel(sim_matrix, sim_matrix)\n",
    "cosine_sim[0]"
   ]
  },
  {
   "cell_type": "markdown",
   "metadata": {},
   "source": [
    "Function to find the recommended movies given a movie name as input. It calculates the similarity of all the movies and sorts them according to the highest value. It returns the top 20 similar movies."
   ]
  },
  {
   "cell_type": "code",
   "execution_count": 14,
   "metadata": {},
   "outputs": [],
   "source": [
    "def recommended_movies(movie_name):\n",
    "    index = mapping[movie_name]\n",
    "    sim_score = list(enumerate(cosine_sim[index]))\n",
    "    sim_score = sorted(sim_score, key=lambda x: x[1], reverse=True)\n",
    "    sim_score = sim_score[1:20]\n",
    "    movie_indices = [i[0] for i in sim_score]\n",
    "    return (df['title'].iloc[movie_indices])"
   ]
  },
  {
   "cell_type": "code",
   "execution_count": 15,
   "metadata": {},
   "outputs": [
    {
     "data": {
      "text/plain": [
       "6269             Harry Potter and the Goblet of Fire\n",
       "3249                        Harry, He's Here To Help\n",
       "3534                                   The Dead Pool\n",
       "5381        Harry Potter and the Prisoner of Azkaban\n",
       "4310         Harry Potter and the Chamber of Secrets\n",
       "6709       Harry Potter and the Order of the Phoenix\n",
       "7635    Harry Potter and the Deathly Hallows: Part 1\n",
       "3941                                    The Good Son\n",
       "8160                      Rebecca of Sunnybrook Farm\n",
       "1196                    Turbo: A Power Rangers Movie\n",
       "3850                                       Clockwise\n",
       "7807    Harry Potter and the Deathly Hallows: Part 2\n",
       "8593                                  Once My Mother\n",
       "6597                                      Epic Movie\n",
       "7246          Harry Potter and the Half-Blood Prince\n",
       "1692                                 Sixteen Candles\n",
       "8806                                Midnight Special\n",
       "5758                                 Harry and Tonto\n",
       "3425                                      The Animal\n",
       "Name: title, dtype: object"
      ]
     },
     "execution_count": 15,
     "metadata": {},
     "output_type": "execute_result"
    }
   ],
   "source": [
    "recommended_movies(\"Harry Potter and the Philosopher's Stone\")"
   ]
  },
  {
   "cell_type": "code",
   "execution_count": 16,
   "metadata": {},
   "outputs": [
    {
     "data": {
      "text/plain": [
       "969      The Godfather: Part II\n",
       "29               Shanghai Triad\n",
       "5658                       Fury\n",
       "3501                       Made\n",
       "2404             American Movie\n",
       "1575    The Godfather: Part III\n",
       "4213                    8 Women\n",
       "3707                   3 Ninjas\n",
       "3601              Harlem Nights\n",
       "8795              Run All Night\n",
       "2151              Summer of Sam\n",
       "6387                Renaissance\n",
       "3280          Jaws: The Revenge\n",
       "5397            The Kid Brother\n",
       "2184           The Color Purple\n",
       "616                     Thinner\n",
       "227              The Jerky Boys\n",
       "3599            Family Business\n",
       "5584                     Eulogy\n",
       "Name: title, dtype: object"
      ]
     },
     "execution_count": 16,
     "metadata": {},
     "output_type": "execute_result"
    }
   ],
   "source": [
    "recommended_movies('The Godfather')"
   ]
  },
  {
   "cell_type": "code",
   "execution_count": 17,
   "metadata": {},
   "outputs": [
    {
     "data": {
      "text/plain": [
       "7917                      The Dark Knight Rises\n",
       "132                              Batman Forever\n",
       "1109                             Batman Returns\n",
       "523                                      Batman\n",
       "7552                 Batman: Under the Red Hood\n",
       "8212    Batman: The Dark Knight Returns, Part 2\n",
       "7887                           Batman: Year One\n",
       "2688                                        JFK\n",
       "8150    Batman: The Dark Knight Returns, Part 1\n",
       "2571               Batman: Mask of the Phantasm\n",
       "7231                  The File on Thelma Jordon\n",
       "4481                                      Q & A\n",
       "7919         Sherlock Holmes: A Game of Shadows\n",
       "6133                              Batman Begins\n",
       "1131                   Night Falls on Manhattan\n",
       "5502                            To End All Wars\n",
       "7332                        Law Abiding Citizen\n",
       "2885                              Flying Tigers\n",
       "8662                          The Young Savages\n",
       "Name: title, dtype: object"
      ]
     },
     "execution_count": 17,
     "metadata": {},
     "output_type": "execute_result"
    }
   ],
   "source": [
    "recommended_movies('The Dark Knight')"
   ]
  },
  {
   "cell_type": "markdown",
   "metadata": {},
   "source": [
    "#### Recommnder based on Cast and Crew"
   ]
  },
  {
   "cell_type": "code",
   "execution_count": 18,
   "metadata": {},
   "outputs": [
    {
     "data": {
      "text/html": [
       "<div>\n",
       "<style scoped>\n",
       "    .dataframe tbody tr th:only-of-type {\n",
       "        vertical-align: middle;\n",
       "    }\n",
       "\n",
       "    .dataframe tbody tr th {\n",
       "        vertical-align: top;\n",
       "    }\n",
       "\n",
       "    .dataframe thead th {\n",
       "        text-align: right;\n",
       "    }\n",
       "</style>\n",
       "<table border=\"1\" class=\"dataframe\">\n",
       "  <thead>\n",
       "    <tr style=\"text-align: right;\">\n",
       "      <th></th>\n",
       "      <th>cast</th>\n",
       "      <th>crew</th>\n",
       "      <th>id</th>\n",
       "    </tr>\n",
       "  </thead>\n",
       "  <tbody>\n",
       "    <tr>\n",
       "      <td>0</td>\n",
       "      <td>[{'cast_id': 14, 'character': 'Woody (voice)',...</td>\n",
       "      <td>[{'credit_id': '52fe4284c3a36847f8024f49', 'de...</td>\n",
       "      <td>862</td>\n",
       "    </tr>\n",
       "    <tr>\n",
       "      <td>1</td>\n",
       "      <td>[{'cast_id': 1, 'character': 'Alan Parrish', '...</td>\n",
       "      <td>[{'credit_id': '52fe44bfc3a36847f80a7cd1', 'de...</td>\n",
       "      <td>8844</td>\n",
       "    </tr>\n",
       "    <tr>\n",
       "      <td>2</td>\n",
       "      <td>[{'cast_id': 2, 'character': 'Max Goldman', 'c...</td>\n",
       "      <td>[{'credit_id': '52fe466a9251416c75077a89', 'de...</td>\n",
       "      <td>15602</td>\n",
       "    </tr>\n",
       "    <tr>\n",
       "      <td>3</td>\n",
       "      <td>[{'cast_id': 1, 'character': \"Savannah 'Vannah...</td>\n",
       "      <td>[{'credit_id': '52fe44779251416c91011acb', 'de...</td>\n",
       "      <td>31357</td>\n",
       "    </tr>\n",
       "    <tr>\n",
       "      <td>4</td>\n",
       "      <td>[{'cast_id': 1, 'character': 'George Banks', '...</td>\n",
       "      <td>[{'credit_id': '52fe44959251416c75039ed7', 'de...</td>\n",
       "      <td>11862</td>\n",
       "    </tr>\n",
       "    <tr>\n",
       "      <td>...</td>\n",
       "      <td>...</td>\n",
       "      <td>...</td>\n",
       "      <td>...</td>\n",
       "    </tr>\n",
       "    <tr>\n",
       "      <td>45471</td>\n",
       "      <td>[{'cast_id': 0, 'character': '', 'credit_id': ...</td>\n",
       "      <td>[{'credit_id': '5894a97d925141426c00818c', 'de...</td>\n",
       "      <td>439050</td>\n",
       "    </tr>\n",
       "    <tr>\n",
       "      <td>45472</td>\n",
       "      <td>[{'cast_id': 1002, 'character': 'Sister Angela...</td>\n",
       "      <td>[{'credit_id': '52fe4af1c3a36847f81e9b15', 'de...</td>\n",
       "      <td>111109</td>\n",
       "    </tr>\n",
       "    <tr>\n",
       "      <td>45473</td>\n",
       "      <td>[{'cast_id': 6, 'character': 'Emily Shaw', 'cr...</td>\n",
       "      <td>[{'credit_id': '52fe4776c3a368484e0c8387', 'de...</td>\n",
       "      <td>67758</td>\n",
       "    </tr>\n",
       "    <tr>\n",
       "      <td>45474</td>\n",
       "      <td>[{'cast_id': 2, 'character': '', 'credit_id': ...</td>\n",
       "      <td>[{'credit_id': '533bccebc3a36844cf0011a7', 'de...</td>\n",
       "      <td>227506</td>\n",
       "    </tr>\n",
       "    <tr>\n",
       "      <td>45475</td>\n",
       "      <td>[]</td>\n",
       "      <td>[{'credit_id': '593e676c92514105b702e68e', 'de...</td>\n",
       "      <td>461257</td>\n",
       "    </tr>\n",
       "  </tbody>\n",
       "</table>\n",
       "<p>45476 rows × 3 columns</p>\n",
       "</div>"
      ],
      "text/plain": [
       "                                                    cast  \\\n",
       "0      [{'cast_id': 14, 'character': 'Woody (voice)',...   \n",
       "1      [{'cast_id': 1, 'character': 'Alan Parrish', '...   \n",
       "2      [{'cast_id': 2, 'character': 'Max Goldman', 'c...   \n",
       "3      [{'cast_id': 1, 'character': \"Savannah 'Vannah...   \n",
       "4      [{'cast_id': 1, 'character': 'George Banks', '...   \n",
       "...                                                  ...   \n",
       "45471  [{'cast_id': 0, 'character': '', 'credit_id': ...   \n",
       "45472  [{'cast_id': 1002, 'character': 'Sister Angela...   \n",
       "45473  [{'cast_id': 6, 'character': 'Emily Shaw', 'cr...   \n",
       "45474  [{'cast_id': 2, 'character': '', 'credit_id': ...   \n",
       "45475                                                 []   \n",
       "\n",
       "                                                    crew      id  \n",
       "0      [{'credit_id': '52fe4284c3a36847f8024f49', 'de...     862  \n",
       "1      [{'credit_id': '52fe44bfc3a36847f80a7cd1', 'de...    8844  \n",
       "2      [{'credit_id': '52fe466a9251416c75077a89', 'de...   15602  \n",
       "3      [{'credit_id': '52fe44779251416c91011acb', 'de...   31357  \n",
       "4      [{'credit_id': '52fe44959251416c75039ed7', 'de...   11862  \n",
       "...                                                  ...     ...  \n",
       "45471  [{'credit_id': '5894a97d925141426c00818c', 'de...  439050  \n",
       "45472  [{'credit_id': '52fe4af1c3a36847f81e9b15', 'de...  111109  \n",
       "45473  [{'credit_id': '52fe4776c3a368484e0c8387', 'de...   67758  \n",
       "45474  [{'credit_id': '533bccebc3a36844cf0011a7', 'de...  227506  \n",
       "45475  [{'credit_id': '593e676c92514105b702e68e', 'de...  461257  \n",
       "\n",
       "[45476 rows x 3 columns]"
      ]
     },
     "execution_count": 18,
     "metadata": {},
     "output_type": "execute_result"
    }
   ],
   "source": [
    "credits = pd.read_csv('credits.csv',low_memory=False)\n",
    "credits"
   ]
  },
  {
   "cell_type": "code",
   "execution_count": 19,
   "metadata": {},
   "outputs": [
    {
     "data": {
      "text/plain": [
       "(37, 3)"
      ]
     },
     "execution_count": 19,
     "metadata": {},
     "output_type": "execute_result"
    }
   ],
   "source": [
    "credits[credits.duplicated()].shape"
   ]
  },
  {
   "cell_type": "markdown",
   "metadata": {},
   "source": [
    "Drop duplicates from the credits file."
   ]
  },
  {
   "cell_type": "code",
   "execution_count": 20,
   "metadata": {},
   "outputs": [
    {
     "data": {
      "text/plain": [
       "(45432, 3)"
      ]
     },
     "execution_count": 20,
     "metadata": {},
     "output_type": "execute_result"
    }
   ],
   "source": [
    "credits.drop_duplicates(['id'],inplace=True)\n",
    "credits.reset_index(drop=True,inplace=True)\n",
    "credits.shape"
   ]
  },
  {
   "cell_type": "markdown",
   "metadata": {},
   "source": [
    "Merge ceredits file with the movies file on 'id' feature"
   ]
  },
  {
   "cell_type": "code",
   "execution_count": 21,
   "metadata": {},
   "outputs": [
    {
     "data": {
      "text/html": [
       "<div>\n",
       "<style scoped>\n",
       "    .dataframe tbody tr th:only-of-type {\n",
       "        vertical-align: middle;\n",
       "    }\n",
       "\n",
       "    .dataframe tbody tr th {\n",
       "        vertical-align: top;\n",
       "    }\n",
       "\n",
       "    .dataframe thead th {\n",
       "        text-align: right;\n",
       "    }\n",
       "</style>\n",
       "<table border=\"1\" class=\"dataframe\">\n",
       "  <thead>\n",
       "    <tr style=\"text-align: right;\">\n",
       "      <th></th>\n",
       "      <th>id</th>\n",
       "      <th>title</th>\n",
       "      <th>genres</th>\n",
       "      <th>cast</th>\n",
       "      <th>crew</th>\n",
       "    </tr>\n",
       "  </thead>\n",
       "  <tbody>\n",
       "    <tr>\n",
       "      <td>0</td>\n",
       "      <td>862.0</td>\n",
       "      <td>Toy Story</td>\n",
       "      <td>[{'id': 16, 'name': 'Animation'}, {'id': 35, '...</td>\n",
       "      <td>[{'cast_id': 14, 'character': 'Woody (voice)',...</td>\n",
       "      <td>[{'credit_id': '52fe4284c3a36847f8024f49', 'de...</td>\n",
       "    </tr>\n",
       "    <tr>\n",
       "      <td>1</td>\n",
       "      <td>8844.0</td>\n",
       "      <td>Jumanji</td>\n",
       "      <td>[{'id': 12, 'name': 'Adventure'}, {'id': 14, '...</td>\n",
       "      <td>[{'cast_id': 1, 'character': 'Alan Parrish', '...</td>\n",
       "      <td>[{'credit_id': '52fe44bfc3a36847f80a7cd1', 'de...</td>\n",
       "    </tr>\n",
       "    <tr>\n",
       "      <td>2</td>\n",
       "      <td>15602.0</td>\n",
       "      <td>Grumpier Old Men</td>\n",
       "      <td>[{'id': 10749, 'name': 'Romance'}, {'id': 35, ...</td>\n",
       "      <td>[{'cast_id': 2, 'character': 'Max Goldman', 'c...</td>\n",
       "      <td>[{'credit_id': '52fe466a9251416c75077a89', 'de...</td>\n",
       "    </tr>\n",
       "    <tr>\n",
       "      <td>3</td>\n",
       "      <td>31357.0</td>\n",
       "      <td>Waiting to Exhale</td>\n",
       "      <td>[{'id': 35, 'name': 'Comedy'}, {'id': 18, 'nam...</td>\n",
       "      <td>[{'cast_id': 1, 'character': \"Savannah 'Vannah...</td>\n",
       "      <td>[{'credit_id': '52fe44779251416c91011acb', 'de...</td>\n",
       "    </tr>\n",
       "    <tr>\n",
       "      <td>4</td>\n",
       "      <td>11862.0</td>\n",
       "      <td>Father of the Bride Part II</td>\n",
       "      <td>[{'id': 35, 'name': 'Comedy'}]</td>\n",
       "      <td>[{'cast_id': 1, 'character': 'George Banks', '...</td>\n",
       "      <td>[{'credit_id': '52fe44959251416c75039ed7', 'de...</td>\n",
       "    </tr>\n",
       "    <tr>\n",
       "      <td>...</td>\n",
       "      <td>...</td>\n",
       "      <td>...</td>\n",
       "      <td>...</td>\n",
       "      <td>...</td>\n",
       "      <td>...</td>\n",
       "    </tr>\n",
       "    <tr>\n",
       "      <td>9065</td>\n",
       "      <td>159550.0</td>\n",
       "      <td>The Last Brickmaker in America</td>\n",
       "      <td>[{'id': 18, 'name': 'Drama'}]</td>\n",
       "      <td>[{'cast_id': 1, 'character': 'Henry Cobb', 'cr...</td>\n",
       "      <td>[{'credit_id': '544475aac3a36819fb000578', 'de...</td>\n",
       "    </tr>\n",
       "    <tr>\n",
       "      <td>9066</td>\n",
       "      <td>392572.0</td>\n",
       "      <td>Rustom</td>\n",
       "      <td>[{'id': 53, 'name': 'Thriller'}, {'id': 10749,...</td>\n",
       "      <td>[{'cast_id': 0, 'character': 'Rustom Pavri', '...</td>\n",
       "      <td>[{'credit_id': '5951baf692514129c4016600', 'de...</td>\n",
       "    </tr>\n",
       "    <tr>\n",
       "      <td>9067</td>\n",
       "      <td>402672.0</td>\n",
       "      <td>Mohenjo Daro</td>\n",
       "      <td>[{'id': 12, 'name': 'Adventure'}, {'id': 18, '...</td>\n",
       "      <td>[{'cast_id': 0, 'character': 'Sarman', 'credit...</td>\n",
       "      <td>[{'credit_id': '57cd5d3592514179d50018e8', 'de...</td>\n",
       "    </tr>\n",
       "    <tr>\n",
       "      <td>9068</td>\n",
       "      <td>315011.0</td>\n",
       "      <td>Shin Godzilla</td>\n",
       "      <td>[{'id': 28, 'name': 'Action'}, {'id': 12, 'nam...</td>\n",
       "      <td>[{'cast_id': 4, 'character': 'Rando Yaguchi : ...</td>\n",
       "      <td>[{'credit_id': '560892fa92514177550018b2', 'de...</td>\n",
       "    </tr>\n",
       "    <tr>\n",
       "      <td>9069</td>\n",
       "      <td>391698.0</td>\n",
       "      <td>The Beatles: Eight Days a Week - The Touring Y...</td>\n",
       "      <td>[{'id': 99, 'name': 'Documentary'}, {'id': 104...</td>\n",
       "      <td>[{'cast_id': 0, 'character': 'Himself', 'credi...</td>\n",
       "      <td>[{'credit_id': '57057c6cc3a3680dca000285', 'de...</td>\n",
       "    </tr>\n",
       "  </tbody>\n",
       "</table>\n",
       "<p>9070 rows × 5 columns</p>\n",
       "</div>"
      ],
      "text/plain": [
       "            id                                              title  \\\n",
       "0        862.0                                          Toy Story   \n",
       "1       8844.0                                            Jumanji   \n",
       "2      15602.0                                   Grumpier Old Men   \n",
       "3      31357.0                                  Waiting to Exhale   \n",
       "4      11862.0                        Father of the Bride Part II   \n",
       "...        ...                                                ...   \n",
       "9065  159550.0                     The Last Brickmaker in America   \n",
       "9066  392572.0                                             Rustom   \n",
       "9067  402672.0                                       Mohenjo Daro   \n",
       "9068  315011.0                                      Shin Godzilla   \n",
       "9069  391698.0  The Beatles: Eight Days a Week - The Touring Y...   \n",
       "\n",
       "                                                 genres  \\\n",
       "0     [{'id': 16, 'name': 'Animation'}, {'id': 35, '...   \n",
       "1     [{'id': 12, 'name': 'Adventure'}, {'id': 14, '...   \n",
       "2     [{'id': 10749, 'name': 'Romance'}, {'id': 35, ...   \n",
       "3     [{'id': 35, 'name': 'Comedy'}, {'id': 18, 'nam...   \n",
       "4                        [{'id': 35, 'name': 'Comedy'}]   \n",
       "...                                                 ...   \n",
       "9065                      [{'id': 18, 'name': 'Drama'}]   \n",
       "9066  [{'id': 53, 'name': 'Thriller'}, {'id': 10749,...   \n",
       "9067  [{'id': 12, 'name': 'Adventure'}, {'id': 18, '...   \n",
       "9068  [{'id': 28, 'name': 'Action'}, {'id': 12, 'nam...   \n",
       "9069  [{'id': 99, 'name': 'Documentary'}, {'id': 104...   \n",
       "\n",
       "                                                   cast  \\\n",
       "0     [{'cast_id': 14, 'character': 'Woody (voice)',...   \n",
       "1     [{'cast_id': 1, 'character': 'Alan Parrish', '...   \n",
       "2     [{'cast_id': 2, 'character': 'Max Goldman', 'c...   \n",
       "3     [{'cast_id': 1, 'character': \"Savannah 'Vannah...   \n",
       "4     [{'cast_id': 1, 'character': 'George Banks', '...   \n",
       "...                                                 ...   \n",
       "9065  [{'cast_id': 1, 'character': 'Henry Cobb', 'cr...   \n",
       "9066  [{'cast_id': 0, 'character': 'Rustom Pavri', '...   \n",
       "9067  [{'cast_id': 0, 'character': 'Sarman', 'credit...   \n",
       "9068  [{'cast_id': 4, 'character': 'Rando Yaguchi : ...   \n",
       "9069  [{'cast_id': 0, 'character': 'Himself', 'credi...   \n",
       "\n",
       "                                                   crew  \n",
       "0     [{'credit_id': '52fe4284c3a36847f8024f49', 'de...  \n",
       "1     [{'credit_id': '52fe44bfc3a36847f80a7cd1', 'de...  \n",
       "2     [{'credit_id': '52fe466a9251416c75077a89', 'de...  \n",
       "3     [{'credit_id': '52fe44779251416c91011acb', 'de...  \n",
       "4     [{'credit_id': '52fe44959251416c75039ed7', 'de...  \n",
       "...                                                 ...  \n",
       "9065  [{'credit_id': '544475aac3a36819fb000578', 'de...  \n",
       "9066  [{'credit_id': '5951baf692514129c4016600', 'de...  \n",
       "9067  [{'credit_id': '57cd5d3592514179d50018e8', 'de...  \n",
       "9068  [{'credit_id': '560892fa92514177550018b2', 'de...  \n",
       "9069  [{'credit_id': '57057c6cc3a3680dca000285', 'de...  \n",
       "\n",
       "[9070 rows x 5 columns]"
      ]
     },
     "execution_count": 21,
     "metadata": {},
     "output_type": "execute_result"
    }
   ],
   "source": [
    "df1 = data.copy()\n",
    "df1 = df1[[\"id\",\"title\",\"genres\"]]\n",
    "df1.drop_duplicates(inplace=True)\n",
    "df1 = df1.merge(credits,on=\"id\")\n",
    "df1 = df1[df1['id'].isin(links)]\n",
    "df1 = df1.reset_index(drop=True)\n",
    "df1"
   ]
  },
  {
   "cell_type": "markdown",
   "metadata": {},
   "source": [
    "Most people watch movies based on the actors or the director in the movie. So extract the director from the crew file and merge it with the cast of the movie which in turn will be the item features used for this recommender."
   ]
  },
  {
   "cell_type": "code",
   "execution_count": 22,
   "metadata": {},
   "outputs": [],
   "source": [
    "def get_director(x):\n",
    "    for i in x:\n",
    "        if i['job'] == 'Director':\n",
    "            return i['name']\n",
    "    return np.nan"
   ]
  },
  {
   "cell_type": "code",
   "execution_count": 23,
   "metadata": {},
   "outputs": [],
   "source": [
    "df1['director'] = df1['crew'].apply(literal_eval).apply(get_director)\n",
    "df1['cast'] = df1['cast'].apply(literal_eval).apply(lambda x: [i['name'] for i in x] if isinstance(x, list) else [])\n",
    "df1['cast'] = df1['cast'].apply(lambda x: x[:3] if len(x) >=3 else x)"
   ]
  },
  {
   "cell_type": "code",
   "execution_count": 24,
   "metadata": {},
   "outputs": [],
   "source": [
    "def clean_data(x):\n",
    "    if isinstance(x, list):\n",
    "        return [str.lower(i.replace(\" \", \"\")) for i in x]\n",
    "    else:\n",
    "        if isinstance(x, str):\n",
    "            return str.lower(x.replace(\" \", \"\"))\n",
    "        else:\n",
    "            return ''"
   ]
  },
  {
   "cell_type": "code",
   "execution_count": 25,
   "metadata": {},
   "outputs": [],
   "source": [
    "df1['director'] = df1['director'].apply(clean_data)\n",
    "df1['cast'] = df1['cast'].apply(clean_data)"
   ]
  },
  {
   "cell_type": "code",
   "execution_count": 26,
   "metadata": {},
   "outputs": [],
   "source": [
    "df1['combined_feat'] = df1[\"cast\"].str.join(\" \") + \" \" + df1[\"director\"]   \n",
    "df1 = df1.reset_index(drop=True)"
   ]
  },
  {
   "cell_type": "markdown",
   "metadata": {},
   "source": [
    "In this case we use a Count Vectorizer instead of TF-IDF. Since this is not a text data and each word has the same weightage, Count Vectorizer would be a better option. "
   ]
  },
  {
   "cell_type": "code",
   "execution_count": 27,
   "metadata": {},
   "outputs": [
    {
     "data": {
      "text/plain": [
       "<9070x40440 sparse matrix of type '<class 'numpy.int64'>'\n",
       "\twith 64706 stored elements in Compressed Sparse Row format>"
      ]
     },
     "execution_count": 27,
     "metadata": {},
     "output_type": "execute_result"
    }
   ],
   "source": [
    "model = CountVectorizer(analyzer='word',ngram_range=(1, 2),min_df=0, stop_words='english')\n",
    "model_matrix = model.fit_transform(df1['combined_feat'])\n",
    "model_matrix"
   ]
  },
  {
   "cell_type": "markdown",
   "metadata": {},
   "source": [
    "Find the cosine similarity for the matrix and recommend the top 10 simialr movies."
   ]
  },
  {
   "cell_type": "code",
   "execution_count": 28,
   "metadata": {},
   "outputs": [],
   "source": [
    "cosine_sim = cosine_similarity(model_matrix)\n",
    "\n",
    "def get_title_from_index(index):\n",
    "    return df1[df1.index == index][\"title\"].values[0]\n",
    "\n",
    "def get_index_from_title(title):\n",
    "    return df1[df1.title == title].index.values.astype(int)[0]\n",
    "\n",
    "def recommended_movies(movie_user_likes):\n",
    "    movie_index = get_index_from_title(movie_user_likes)\n",
    "    similar_movies =  list(enumerate(cosine_sim[movie_index]))\n",
    "\n",
    "    sorted_similar_movies = sorted(similar_movies,key=lambda x:x[1],reverse=True)[1:]\n",
    "    i=0\n",
    "    print(\"Top 10 similar movies to \"+movie_user_likes+\" are:\\n\")\n",
    "    for element in sorted_similar_movies:\n",
    "        print(get_title_from_index(element[0]))\n",
    "        i=i+1\n",
    "        if i>=10:\n",
    "            break\n"
   ]
  },
  {
   "cell_type": "code",
   "execution_count": 29,
   "metadata": {},
   "outputs": [
    {
     "name": "stdout",
     "output_type": "stream",
     "text": [
      "Top 10 similar movies to The Dark Knight are:\n",
      "\n",
      "Batman Begins\n",
      "The Prestige\n",
      "The Dark Knight Rises\n",
      "The Man Who Would Be King\n",
      "The Muppet Christmas Carol\n",
      "Swing Kids\n",
      "Blame It on Rio\n",
      "Velvet Goldmine\n",
      "Mona Lisa\n",
      "Little Voice\n"
     ]
    }
   ],
   "source": [
    "recommended_movies('The Dark Knight')"
   ]
  },
  {
   "cell_type": "code",
   "execution_count": 30,
   "metadata": {},
   "outputs": [
    {
     "name": "stdout",
     "output_type": "stream",
     "text": [
      "Top 10 similar movies to Deadpool are:\n",
      "\n",
      "National Lampoon’s Van Wilder\n",
      "The Amityville Horror\n",
      "Waiting...\n",
      "Just Friends\n",
      "Smokin' Aces\n",
      "Definitely, Maybe\n",
      "Chaos Theory\n",
      "The Proposal\n",
      "Buried\n",
      "Green Lantern\n"
     ]
    }
   ],
   "source": [
    "recommended_movies('Deadpool')"
   ]
  },
  {
   "cell_type": "code",
   "execution_count": 31,
   "metadata": {},
   "outputs": [
    {
     "name": "stdout",
     "output_type": "stream",
     "text": [
      "Top 10 similar movies to Harry Potter and the Philosopher's Stone are:\n",
      "\n",
      "Harry Potter and the Chamber of Secrets\n",
      "Harry Potter and the Prisoner of Azkaban\n",
      "Harry Potter and the Goblet of Fire\n",
      "Harry Potter and the Order of the Phoenix\n",
      "Harry Potter and the Half-Blood Prince\n",
      "Harry Potter and the Deathly Hallows: Part 2\n",
      "Harry Potter and the Deathly Hallows: Part 1\n",
      "Nine Months\n",
      "Mrs. Doubtfire\n",
      "Home Alone\n"
     ]
    }
   ],
   "source": [
    "recommended_movies('Harry Potter and the Philosopher\\'s Stone')"
   ]
  },
  {
   "cell_type": "markdown",
   "metadata": {},
   "source": [
    "All the recommendations given for the three movies have the same actor or director and looks like the model works fine."
   ]
  }
 ],
 "metadata": {
  "kernelspec": {
   "display_name": "Python 3",
   "language": "python",
   "name": "python3"
  },
  "language_info": {
   "codemirror_mode": {
    "name": "ipython",
    "version": 3
   },
   "file_extension": ".py",
   "mimetype": "text/x-python",
   "name": "python",
   "nbconvert_exporter": "python",
   "pygments_lexer": "ipython3",
   "version": "3.7.4"
  }
 },
 "nbformat": 4,
 "nbformat_minor": 2
}
