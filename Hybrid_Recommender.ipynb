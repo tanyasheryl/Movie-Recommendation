{
 "cells": [
  {
   "cell_type": "markdown",
   "metadata": {},
   "source": [
    "## Hybrid Recommendation System"
   ]
  },
  {
   "cell_type": "markdown",
   "metadata": {},
   "source": [
    "Both Content based filtering and Collaborative filtering has its advantages and disadvantages and we can combine both these models to form a hybrid model. This can be achieved in multiple ways: either by building CF and CBF separately and then combining them or by doing them one after the other or incorporating one into the other. Here we are going to use a library called LightFM to implement the Hybrid model."
   ]
  },
  {
   "cell_type": "code",
   "execution_count": 2,
   "metadata": {},
   "outputs": [
    {
     "name": "stderr",
     "output_type": "stream",
     "text": [
      "F:\\ProgramFiles\\Anaconda\\lib\\site-packages\\lightfm\\_lightfm_fast.py:9: UserWarning: LightFM was compiled without OpenMP support. Only a single thread will be used.\n",
      "  warnings.warn('LightFM was compiled without OpenMP support. '\n"
     ]
    }
   ],
   "source": [
    "import pandas as pd\n",
    "import numpy as np\n",
    "import matplotlib.pyplot as plt\n",
    "import seaborn as sns\n",
    "from surprise import Dataset\n",
    "from surprise import Reader, KNNWithMeans, SVD\n",
    "from ast import literal_eval\n",
    "from lightfm.data import Dataset\n",
    "from lightfm.datasets import fetch_movielens\n",
    "from lightfm import LightFM, cross_validation\n",
    "from lightfm.evaluation import precision_at_k, auc_score, recall_at_k"
   ]
  },
  {
   "cell_type": "markdown",
   "metadata": {},
   "source": [
    "Load the data into the dataframe. The data is scaled down by using the ones only in the links file."
   ]
  },
  {
   "cell_type": "code",
   "execution_count": 3,
   "metadata": {},
   "outputs": [
    {
     "data": {
      "text/html": [
       "<div>\n",
       "<style scoped>\n",
       "    .dataframe tbody tr th:only-of-type {\n",
       "        vertical-align: middle;\n",
       "    }\n",
       "\n",
       "    .dataframe tbody tr th {\n",
       "        vertical-align: top;\n",
       "    }\n",
       "\n",
       "    .dataframe thead th {\n",
       "        text-align: right;\n",
       "    }\n",
       "</style>\n",
       "<table border=\"1\" class=\"dataframe\">\n",
       "  <thead>\n",
       "    <tr style=\"text-align: right;\">\n",
       "      <th></th>\n",
       "      <th>userId</th>\n",
       "      <th>movieId</th>\n",
       "      <th>rating</th>\n",
       "      <th>timestamp</th>\n",
       "    </tr>\n",
       "  </thead>\n",
       "  <tbody>\n",
       "    <tr>\n",
       "      <td>0</td>\n",
       "      <td>1</td>\n",
       "      <td>110</td>\n",
       "      <td>1.0</td>\n",
       "      <td>1425941529</td>\n",
       "    </tr>\n",
       "    <tr>\n",
       "      <td>1</td>\n",
       "      <td>1</td>\n",
       "      <td>147</td>\n",
       "      <td>4.5</td>\n",
       "      <td>1425942435</td>\n",
       "    </tr>\n",
       "    <tr>\n",
       "      <td>2</td>\n",
       "      <td>1</td>\n",
       "      <td>858</td>\n",
       "      <td>5.0</td>\n",
       "      <td>1425941523</td>\n",
       "    </tr>\n",
       "    <tr>\n",
       "      <td>3</td>\n",
       "      <td>1</td>\n",
       "      <td>1246</td>\n",
       "      <td>5.0</td>\n",
       "      <td>1425941556</td>\n",
       "    </tr>\n",
       "    <tr>\n",
       "      <td>4</td>\n",
       "      <td>1</td>\n",
       "      <td>1968</td>\n",
       "      <td>4.0</td>\n",
       "      <td>1425942148</td>\n",
       "    </tr>\n",
       "  </tbody>\n",
       "</table>\n",
       "</div>"
      ],
      "text/plain": [
       "   userId  movieId  rating   timestamp\n",
       "0       1      110     1.0  1425941529\n",
       "1       1      147     4.5  1425942435\n",
       "2       1      858     5.0  1425941523\n",
       "3       1     1246     5.0  1425941556\n",
       "4       1     1968     4.0  1425942148"
      ]
     },
     "execution_count": 3,
     "metadata": {},
     "output_type": "execute_result"
    }
   ],
   "source": [
    "df = pd.read_csv('movies_metadata.csv',low_memory=False)\n",
    "ratings = pd.read_csv('ratings.csv',low_memory=False)\n",
    "links = pd.read_csv('links_small.csv',low_memory=False)\n",
    "links = links[links['tmdbId'].isna() == False]['tmdbId']\n",
    "links_mov = pd.to_numeric(df['id'],errors=\"coerce\")\n",
    "ratings = ratings[ratings['movieId'].isin(links)]\n",
    "ratings = ratings[ratings['movieId'].isin(links_mov)]\n",
    "ratings = ratings.reset_index(drop=True)\n",
    "ratings.head()"
   ]
  },
  {
   "cell_type": "code",
   "execution_count": 4,
   "metadata": {},
   "outputs": [],
   "source": [
    "df['id'] = pd.to_numeric(df['id'],errors=\"coerce\")\n",
    "df = df[df['id'].isin(links)]"
   ]
  },
  {
   "cell_type": "code",
   "execution_count": 5,
   "metadata": {},
   "outputs": [
    {
     "data": {
      "text/html": [
       "<div>\n",
       "<style scoped>\n",
       "    .dataframe tbody tr th:only-of-type {\n",
       "        vertical-align: middle;\n",
       "    }\n",
       "\n",
       "    .dataframe tbody tr th {\n",
       "        vertical-align: top;\n",
       "    }\n",
       "\n",
       "    .dataframe thead th {\n",
       "        text-align: right;\n",
       "    }\n",
       "</style>\n",
       "<table border=\"1\" class=\"dataframe\">\n",
       "  <thead>\n",
       "    <tr style=\"text-align: right;\">\n",
       "      <th></th>\n",
       "      <th>id</th>\n",
       "      <th>title</th>\n",
       "      <th>genres</th>\n",
       "    </tr>\n",
       "  </thead>\n",
       "  <tbody>\n",
       "    <tr>\n",
       "      <td>0</td>\n",
       "      <td>862.0</td>\n",
       "      <td>Toy Story</td>\n",
       "      <td>[Comedy, Animation, Family]</td>\n",
       "    </tr>\n",
       "    <tr>\n",
       "      <td>1</td>\n",
       "      <td>8844.0</td>\n",
       "      <td>Jumanji</td>\n",
       "      <td>[Adventure, Fantasy, Family]</td>\n",
       "    </tr>\n",
       "    <tr>\n",
       "      <td>2</td>\n",
       "      <td>949.0</td>\n",
       "      <td>Heat</td>\n",
       "      <td>[Drama, Thriller, Action, Crime]</td>\n",
       "    </tr>\n",
       "    <tr>\n",
       "      <td>3</td>\n",
       "      <td>710.0</td>\n",
       "      <td>GoldenEye</td>\n",
       "      <td>[Thriller, Adventure, Action]</td>\n",
       "    </tr>\n",
       "    <tr>\n",
       "      <td>4</td>\n",
       "      <td>1408.0</td>\n",
       "      <td>Cutthroat Island</td>\n",
       "      <td>[Adventure, Action]</td>\n",
       "    </tr>\n",
       "    <tr>\n",
       "      <td>...</td>\n",
       "      <td>...</td>\n",
       "      <td>...</td>\n",
       "      <td>...</td>\n",
       "    </tr>\n",
       "    <tr>\n",
       "      <td>2431</td>\n",
       "      <td>131634.0</td>\n",
       "      <td>The Hunger Games: Mockingjay - Part 2</td>\n",
       "      <td>[Adventure, Action, Science Fiction]</td>\n",
       "    </tr>\n",
       "    <tr>\n",
       "      <td>2432</td>\n",
       "      <td>5900.0</td>\n",
       "      <td>The Dress</td>\n",
       "      <td>[Comedy, Drama]</td>\n",
       "    </tr>\n",
       "    <tr>\n",
       "      <td>2433</td>\n",
       "      <td>81704.0</td>\n",
       "      <td>Romeos</td>\n",
       "      <td>[Drama]</td>\n",
       "    </tr>\n",
       "    <tr>\n",
       "      <td>2434</td>\n",
       "      <td>4912.0</td>\n",
       "      <td>Confessions of a Dangerous Mind</td>\n",
       "      <td>[Thriller, Drama, Comedy, Romance, Crime]</td>\n",
       "    </tr>\n",
       "    <tr>\n",
       "      <td>2435</td>\n",
       "      <td>26677.0</td>\n",
       "      <td>The Video Dead</td>\n",
       "      <td>[Horror]</td>\n",
       "    </tr>\n",
       "  </tbody>\n",
       "</table>\n",
       "<p>2436 rows × 3 columns</p>\n",
       "</div>"
      ],
      "text/plain": [
       "            id                                  title  \\\n",
       "0        862.0                              Toy Story   \n",
       "1       8844.0                                Jumanji   \n",
       "2        949.0                                   Heat   \n",
       "3        710.0                              GoldenEye   \n",
       "4       1408.0                       Cutthroat Island   \n",
       "...        ...                                    ...   \n",
       "2431  131634.0  The Hunger Games: Mockingjay - Part 2   \n",
       "2432    5900.0                              The Dress   \n",
       "2433   81704.0                                 Romeos   \n",
       "2434    4912.0        Confessions of a Dangerous Mind   \n",
       "2435   26677.0                         The Video Dead   \n",
       "\n",
       "                                         genres  \n",
       "0                   [Comedy, Animation, Family]  \n",
       "1                  [Adventure, Fantasy, Family]  \n",
       "2              [Drama, Thriller, Action, Crime]  \n",
       "3                 [Thriller, Adventure, Action]  \n",
       "4                           [Adventure, Action]  \n",
       "...                                         ...  \n",
       "2431       [Adventure, Action, Science Fiction]  \n",
       "2432                            [Comedy, Drama]  \n",
       "2433                                    [Drama]  \n",
       "2434  [Thriller, Drama, Comedy, Romance, Crime]  \n",
       "2435                                   [Horror]  \n",
       "\n",
       "[2436 rows x 3 columns]"
      ]
     },
     "execution_count": 5,
     "metadata": {},
     "output_type": "execute_result"
    }
   ],
   "source": [
    "movies = df.copy()\n",
    "movies= df[['id','title','genres']]\n",
    "mov_links = ratings[ratings['movieId'].isna() == False]['movieId']\n",
    "movies = movies[movies['id'].isin(mov_links)]\n",
    "movies = movies.dropna(subset=['title']).reset_index(drop=True)\n",
    "movies['genres'] = [list(set([y['name'] for y in x])) for x in movies['genres'].apply(literal_eval)]\n",
    "movies"
   ]
  },
  {
   "cell_type": "code",
   "execution_count": 6,
   "metadata": {},
   "outputs": [
    {
     "data": {
      "text/html": [
       "<div>\n",
       "<style scoped>\n",
       "    .dataframe tbody tr th:only-of-type {\n",
       "        vertical-align: middle;\n",
       "    }\n",
       "\n",
       "    .dataframe tbody tr th {\n",
       "        vertical-align: top;\n",
       "    }\n",
       "\n",
       "    .dataframe thead th {\n",
       "        text-align: right;\n",
       "    }\n",
       "</style>\n",
       "<table border=\"1\" class=\"dataframe\">\n",
       "  <thead>\n",
       "    <tr style=\"text-align: right;\">\n",
       "      <th></th>\n",
       "      <th>id</th>\n",
       "      <th>title</th>\n",
       "      <th>genres</th>\n",
       "    </tr>\n",
       "  </thead>\n",
       "  <tbody>\n",
       "    <tr>\n",
       "      <td>1737</td>\n",
       "      <td>5511.0</td>\n",
       "      <td>Le Samouraï</td>\n",
       "      <td>[Drama, Thriller, Crime]</td>\n",
       "    </tr>\n",
       "    <tr>\n",
       "      <td>2426</td>\n",
       "      <td>168538.0</td>\n",
       "      <td>Nana, the True Key of Pleasure</td>\n",
       "      <td>[Drama, Comedy]</td>\n",
       "    </tr>\n",
       "    <tr>\n",
       "      <td>2434</td>\n",
       "      <td>4912.0</td>\n",
       "      <td>Confessions of a Dangerous Mind</td>\n",
       "      <td>[Thriller, Drama, Comedy, Romance, Crime]</td>\n",
       "    </tr>\n",
       "  </tbody>\n",
       "</table>\n",
       "</div>"
      ],
      "text/plain": [
       "            id                            title  \\\n",
       "1737    5511.0                      Le Samouraï   \n",
       "2426  168538.0   Nana, the True Key of Pleasure   \n",
       "2434    4912.0  Confessions of a Dangerous Mind   \n",
       "\n",
       "                                         genres  \n",
       "1737                   [Drama, Thriller, Crime]  \n",
       "2426                            [Drama, Comedy]  \n",
       "2434  [Thriller, Drama, Comedy, Romance, Crime]  "
      ]
     },
     "execution_count": 6,
     "metadata": {},
     "output_type": "execute_result"
    }
   ],
   "source": [
    "movies[movies[['id','title']].duplicated()]"
   ]
  },
  {
   "cell_type": "code",
   "execution_count": 7,
   "metadata": {},
   "outputs": [
    {
     "data": {
      "text/html": [
       "<div>\n",
       "<style scoped>\n",
       "    .dataframe tbody tr th:only-of-type {\n",
       "        vertical-align: middle;\n",
       "    }\n",
       "\n",
       "    .dataframe tbody tr th {\n",
       "        vertical-align: top;\n",
       "    }\n",
       "\n",
       "    .dataframe thead th {\n",
       "        text-align: right;\n",
       "    }\n",
       "</style>\n",
       "<table border=\"1\" class=\"dataframe\">\n",
       "  <thead>\n",
       "    <tr style=\"text-align: right;\">\n",
       "      <th></th>\n",
       "      <th>id</th>\n",
       "      <th>title</th>\n",
       "      <th>genres</th>\n",
       "    </tr>\n",
       "  </thead>\n",
       "  <tbody>\n",
       "    <tr>\n",
       "      <td>0</td>\n",
       "      <td>862.0</td>\n",
       "      <td>Toy Story</td>\n",
       "      <td>[Comedy, Animation, Family]</td>\n",
       "    </tr>\n",
       "    <tr>\n",
       "      <td>1</td>\n",
       "      <td>8844.0</td>\n",
       "      <td>Jumanji</td>\n",
       "      <td>[Adventure, Fantasy, Family]</td>\n",
       "    </tr>\n",
       "    <tr>\n",
       "      <td>2</td>\n",
       "      <td>949.0</td>\n",
       "      <td>Heat</td>\n",
       "      <td>[Drama, Thriller, Action, Crime]</td>\n",
       "    </tr>\n",
       "    <tr>\n",
       "      <td>3</td>\n",
       "      <td>710.0</td>\n",
       "      <td>GoldenEye</td>\n",
       "      <td>[Thriller, Adventure, Action]</td>\n",
       "    </tr>\n",
       "    <tr>\n",
       "      <td>4</td>\n",
       "      <td>1408.0</td>\n",
       "      <td>Cutthroat Island</td>\n",
       "      <td>[Adventure, Action]</td>\n",
       "    </tr>\n",
       "    <tr>\n",
       "      <td>...</td>\n",
       "      <td>...</td>\n",
       "      <td>...</td>\n",
       "      <td>...</td>\n",
       "    </tr>\n",
       "    <tr>\n",
       "      <td>2428</td>\n",
       "      <td>150540.0</td>\n",
       "      <td>Inside Out</td>\n",
       "      <td>[Drama, Comedy, Animation, Family]</td>\n",
       "    </tr>\n",
       "    <tr>\n",
       "      <td>2429</td>\n",
       "      <td>131634.0</td>\n",
       "      <td>The Hunger Games: Mockingjay - Part 2</td>\n",
       "      <td>[Adventure, Action, Science Fiction]</td>\n",
       "    </tr>\n",
       "    <tr>\n",
       "      <td>2430</td>\n",
       "      <td>5900.0</td>\n",
       "      <td>The Dress</td>\n",
       "      <td>[Comedy, Drama]</td>\n",
       "    </tr>\n",
       "    <tr>\n",
       "      <td>2431</td>\n",
       "      <td>81704.0</td>\n",
       "      <td>Romeos</td>\n",
       "      <td>[Drama]</td>\n",
       "    </tr>\n",
       "    <tr>\n",
       "      <td>2432</td>\n",
       "      <td>26677.0</td>\n",
       "      <td>The Video Dead</td>\n",
       "      <td>[Horror]</td>\n",
       "    </tr>\n",
       "  </tbody>\n",
       "</table>\n",
       "<p>2433 rows × 3 columns</p>\n",
       "</div>"
      ],
      "text/plain": [
       "            id                                  title  \\\n",
       "0        862.0                              Toy Story   \n",
       "1       8844.0                                Jumanji   \n",
       "2        949.0                                   Heat   \n",
       "3        710.0                              GoldenEye   \n",
       "4       1408.0                       Cutthroat Island   \n",
       "...        ...                                    ...   \n",
       "2428  150540.0                             Inside Out   \n",
       "2429  131634.0  The Hunger Games: Mockingjay - Part 2   \n",
       "2430    5900.0                              The Dress   \n",
       "2431   81704.0                                 Romeos   \n",
       "2432   26677.0                         The Video Dead   \n",
       "\n",
       "                                    genres  \n",
       "0              [Comedy, Animation, Family]  \n",
       "1             [Adventure, Fantasy, Family]  \n",
       "2         [Drama, Thriller, Action, Crime]  \n",
       "3            [Thriller, Adventure, Action]  \n",
       "4                      [Adventure, Action]  \n",
       "...                                    ...  \n",
       "2428    [Drama, Comedy, Animation, Family]  \n",
       "2429  [Adventure, Action, Science Fiction]  \n",
       "2430                       [Comedy, Drama]  \n",
       "2431                               [Drama]  \n",
       "2432                              [Horror]  \n",
       "\n",
       "[2433 rows x 3 columns]"
      ]
     },
     "execution_count": 7,
     "metadata": {},
     "output_type": "execute_result"
    }
   ],
   "source": [
    "movies.drop_duplicates(['id','title'],inplace=True)\n",
    "movies = movies.reset_index(drop=True)\n",
    "movies"
   ]
  },
  {
   "cell_type": "code",
   "execution_count": 8,
   "metadata": {},
   "outputs": [
    {
     "name": "stdout",
     "output_type": "stream",
     "text": [
      "Num users: 261457, num_items 2433.\n"
     ]
    }
   ],
   "source": [
    "dataset = Dataset()\n",
    "dataset.fit(ratings['userId'], ratings['movieId'])\n",
    "num_users, num_items = dataset.interactions_shape()\n",
    "print('Num users: {}, num_items {}.'.format(num_users, num_items))"
   ]
  },
  {
   "cell_type": "code",
   "execution_count": 9,
   "metadata": {},
   "outputs": [
    {
     "name": "stdout",
     "output_type": "stream",
     "text": [
      "<261457x2433 sparse matrix of type '<class 'numpy.int32'>'\n",
      "\twith 8052909 stored elements in COOrdinate format>\n"
     ]
    }
   ],
   "source": [
    "dataset.fit_partial(items=movies['id'], item_features=movies['title'])\n",
    "interactions, weights = dataset.build_interactions([tuple(i) for i in ratings.drop(['timestamp', 'rating'], axis = 1).values])\n",
    "print(repr(interactions)) "
   ]
  },
  {
   "cell_type": "code",
   "execution_count": 10,
   "metadata": {},
   "outputs": [
    {
     "name": "stdout",
     "output_type": "stream",
     "text": [
      "<2433x4835 sparse matrix of type '<class 'numpy.float32'>'\n",
      "\twith 4866 stored elements in Compressed Sparse Row format>\n"
     ]
    }
   ],
   "source": [
    "item_features = dataset.build_item_features(((x, [y]) for x, y in zip(movies['id'], movies['title'])))\n",
    "print(repr(item_features))"
   ]
  },
  {
   "cell_type": "code",
   "execution_count": 11,
   "metadata": {},
   "outputs": [
    {
     "data": {
      "text/plain": [
       "<lightfm.lightfm.LightFM at 0x1e0060a7288>"
      ]
     },
     "execution_count": 11,
     "metadata": {},
     "output_type": "execute_result"
    }
   ],
   "source": [
    "train, test = cross_validation.random_train_test_split(interactions, test_percentage=0.25)\n",
    "model_lfm = LightFM(loss='warp')\n",
    "model_lfm.fit(train, item_features=item_features, epochs=40)"
   ]
  },
  {
   "cell_type": "code",
   "execution_count": 12,
   "metadata": {},
   "outputs": [],
   "source": [
    "def get_recommended_movies(model, user_ids):\n",
    "    n_users, n_items = train.shape\n",
    "    for user_id in user_ids:\n",
    "        best = ratings[(ratings.userId == user_id) ].movieId.values \n",
    "        known_positives =  movies.loc[movies['id'].isin(best)].title.values\n",
    "        scores = model.predict(user_id, np.arange(n_items))\n",
    "        top_items = movies['title'][np.argsort(-scores)]\n",
    "        print('User %s' % user_id)\n",
    "        print(' Known positives:')\n",
    "        for x in known_positives[:3]:\n",
    "            print('  %s' % x)\n",
    "        print(' Recommended: ')\n",
    "        for x in top_items[:3]:\n",
    "             print('  %s' % x)\n"
   ]
  },
  {
   "cell_type": "code",
   "execution_count": 13,
   "metadata": {},
   "outputs": [
    {
     "name": "stdout",
     "output_type": "stream",
     "text": [
      "User 3\n",
      " Known positives:\n",
      "  Once Were Warriors\n",
      "  Sleepless in Seattle\n",
      "  Reservoir Dogs\n",
      " Recommended: \n",
      "  Beverly Hills Cop III\n",
      "  The Fugitive\n",
      "  East of Eden\n",
      "User 25\n",
      " Known positives:\n",
      "  Psycho\n",
      "  Night on Earth\n",
      "  Titanic\n",
      " Recommended: \n",
      "  Cool Hand Luke\n",
      "  Beverly Hills Cop III\n",
      "  My Son the Fanatic\n",
      "User 451\n",
      " Known positives:\n",
      "  Beyond Rangoon\n",
      "  Once Were Warriors\n",
      "  Three Colors: Red\n",
      " Recommended: \n",
      "  Beverly Hills Cop III\n",
      "  Angels and Insects\n",
      "  Timecop\n"
     ]
    }
   ],
   "source": [
    "get_recommended_movies(model_lfm, [3, 25, 451])"
   ]
  },
  {
   "cell_type": "code",
   "execution_count": 14,
   "metadata": {},
   "outputs": [],
   "source": [
    "def print_eval(model_lfm):\n",
    "    precision = precision_at_k(model_lfm, train, k=10, item_features=item_features).mean()\n",
    "    auc = auc_score(model_lfm, train, item_features=item_features).mean()\n",
    "    recall = recall_at_k(model_lfm, train, item_features=item_features).mean()\n",
    "    \n",
    "    print('AUC: %.2f.' % (auc))\n",
    "    print('Precision: %.2f.' % (precision))\n",
    "    print('Recall: %.2f.' % (recall))    "
   ]
  },
  {
   "cell_type": "code",
   "execution_count": 15,
   "metadata": {},
   "outputs": [
    {
     "name": "stdout",
     "output_type": "stream",
     "text": [
      "AUC: 0.98.\n",
      "Precision: 0.35.\n",
      "Recall: 0.33.\n"
     ]
    }
   ],
   "source": [
    "print_eval(model_lfm)"
   ]
  }
 ],
 "metadata": {
  "kernelspec": {
   "display_name": "Python 3",
   "language": "python",
   "name": "python3"
  },
  "language_info": {
   "codemirror_mode": {
    "name": "ipython",
    "version": 3
   },
   "file_extension": ".py",
   "mimetype": "text/x-python",
   "name": "python",
   "nbconvert_exporter": "python",
   "pygments_lexer": "ipython3",
   "version": "3.7.4"
  }
 },
 "nbformat": 4,
 "nbformat_minor": 2
}
